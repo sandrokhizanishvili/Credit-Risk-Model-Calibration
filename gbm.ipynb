{
 "cells": [
  {
   "cell_type": "code",
   "execution_count": 18,
   "id": "0efa37b9",
   "metadata": {},
   "outputs": [],
   "source": [
    "import os\n",
    "import numpy as np\n",
    "import pandas as pd\n",
    "import matplotlib.pyplot as plt\n",
    "\n",
    "from sklearn.metrics import roc_auc_score, accuracy_score, precision_score, recall_score, f1_score\n",
    "from xgboost import XGBClassifier\n",
    "\n",
    "\n",
    "def evaluate_all(y_true, proba, threshold=0.5):\n",
    "    y_pred = (proba >= threshold).astype(int)\n",
    "    return {\n",
    "        \"ROC-AUC\": roc_auc_score(y_true, proba),\n",
    "        \"Accuracy\": accuracy_score(y_true, y_pred),\n",
    "        \"Precision\": precision_score(y_true, y_pred, zero_division=0),\n",
    "        \"Recall\": recall_score(y_true, y_pred, zero_division=0),\n",
    "        \"F1\": f1_score(y_true, y_pred, zero_division=0),\n",
    "    }"
   ]
  },
  {
   "cell_type": "code",
   "execution_count": 4,
   "id": "822d7aa4",
   "metadata": {},
   "outputs": [],
   "source": [
    "TRAIN_PATH = \"DATA/preprocessed_train.csv\"\n",
    "VALID_PATH = \"DATA/preprocessed_valid.csv\"\n",
    "TEST_PATH  = \"DATA/preprocessed_test.csv\""
   ]
  },
  {
   "cell_type": "code",
   "execution_count": 5,
   "id": "d0431ad7",
   "metadata": {},
   "outputs": [],
   "source": [
    "df_tr = pd.read_csv(TRAIN_PATH)\n",
    "df_va = pd.read_csv(VALID_PATH)\n",
    "df_te = pd.read_csv(TEST_PATH)"
   ]
  },
  {
   "cell_type": "code",
   "execution_count": 6,
   "id": "3f4c16f4",
   "metadata": {},
   "outputs": [
    {
     "data": {
      "text/html": [
       "<div>\n",
       "<style scoped>\n",
       "    .dataframe tbody tr th:only-of-type {\n",
       "        vertical-align: middle;\n",
       "    }\n",
       "\n",
       "    .dataframe tbody tr th {\n",
       "        vertical-align: top;\n",
       "    }\n",
       "\n",
       "    .dataframe thead th {\n",
       "        text-align: right;\n",
       "    }\n",
       "</style>\n",
       "<table border=\"1\" class=\"dataframe\">\n",
       "  <thead>\n",
       "    <tr style=\"text-align: right;\">\n",
       "      <th></th>\n",
       "      <th>person_income</th>\n",
       "      <th>person_home_ownership</th>\n",
       "      <th>person_emp_length</th>\n",
       "      <th>loan_intent</th>\n",
       "      <th>loan_grade</th>\n",
       "      <th>loan_amnt</th>\n",
       "      <th>loan_status</th>\n",
       "      <th>loan_percent_income</th>\n",
       "      <th>cb_person_default_on_file</th>\n",
       "      <th>cb_person_cred_hist_length</th>\n",
       "      <th>ID</th>\n",
       "    </tr>\n",
       "  </thead>\n",
       "  <tbody>\n",
       "    <tr>\n",
       "      <th>0</th>\n",
       "      <td>37200</td>\n",
       "      <td>3</td>\n",
       "      <td>4.0</td>\n",
       "      <td>6</td>\n",
       "      <td>1</td>\n",
       "      <td>9000</td>\n",
       "      <td>0</td>\n",
       "      <td>0.24</td>\n",
       "      <td>1</td>\n",
       "      <td>6</td>\n",
       "      <td>23482</td>\n",
       "    </tr>\n",
       "    <tr>\n",
       "      <th>1</th>\n",
       "      <td>83000</td>\n",
       "      <td>3</td>\n",
       "      <td>0.0</td>\n",
       "      <td>2</td>\n",
       "      <td>4</td>\n",
       "      <td>14000</td>\n",
       "      <td>1</td>\n",
       "      <td>0.17</td>\n",
       "      <td>2</td>\n",
       "      <td>4</td>\n",
       "      <td>14094</td>\n",
       "    </tr>\n",
       "    <tr>\n",
       "      <th>2</th>\n",
       "      <td>50000</td>\n",
       "      <td>3</td>\n",
       "      <td>1.0</td>\n",
       "      <td>5</td>\n",
       "      <td>1</td>\n",
       "      <td>4000</td>\n",
       "      <td>0</td>\n",
       "      <td>0.08</td>\n",
       "      <td>1</td>\n",
       "      <td>2</td>\n",
       "      <td>3966</td>\n",
       "    </tr>\n",
       "    <tr>\n",
       "      <th>3</th>\n",
       "      <td>43200</td>\n",
       "      <td>2</td>\n",
       "      <td>4.0</td>\n",
       "      <td>1</td>\n",
       "      <td>1</td>\n",
       "      <td>6350</td>\n",
       "      <td>0</td>\n",
       "      <td>0.15</td>\n",
       "      <td>1</td>\n",
       "      <td>4</td>\n",
       "      <td>5052</td>\n",
       "    </tr>\n",
       "    <tr>\n",
       "      <th>4</th>\n",
       "      <td>70000</td>\n",
       "      <td>3</td>\n",
       "      <td>6.0</td>\n",
       "      <td>3</td>\n",
       "      <td>4</td>\n",
       "      <td>12000</td>\n",
       "      <td>0</td>\n",
       "      <td>0.17</td>\n",
       "      <td>2</td>\n",
       "      <td>5</td>\n",
       "      <td>25312</td>\n",
       "    </tr>\n",
       "  </tbody>\n",
       "</table>\n",
       "</div>"
      ],
      "text/plain": [
       "   person_income  person_home_ownership  person_emp_length  loan_intent  \\\n",
       "0          37200                      3                4.0            6   \n",
       "1          83000                      3                0.0            2   \n",
       "2          50000                      3                1.0            5   \n",
       "3          43200                      2                4.0            1   \n",
       "4          70000                      3                6.0            3   \n",
       "\n",
       "   loan_grade  loan_amnt  loan_status  loan_percent_income  \\\n",
       "0           1       9000            0                 0.24   \n",
       "1           4      14000            1                 0.17   \n",
       "2           1       4000            0                 0.08   \n",
       "3           1       6350            0                 0.15   \n",
       "4           4      12000            0                 0.17   \n",
       "\n",
       "   cb_person_default_on_file  cb_person_cred_hist_length     ID  \n",
       "0                          1                           6  23482  \n",
       "1                          2                           4  14094  \n",
       "2                          1                           2   3966  \n",
       "3                          1                           4   5052  \n",
       "4                          2                           5  25312  "
      ]
     },
     "execution_count": 6,
     "metadata": {},
     "output_type": "execute_result"
    }
   ],
   "source": [
    "df_tr.head()"
   ]
  },
  {
   "cell_type": "code",
   "execution_count": 12,
   "id": "465f8f14",
   "metadata": {},
   "outputs": [
    {
     "data": {
      "text/plain": [
       "(20745, 11)"
      ]
     },
     "execution_count": 12,
     "metadata": {},
     "output_type": "execute_result"
    }
   ],
   "source": [
    "df_tr.shape\n"
   ]
  },
  {
   "cell_type": "code",
   "execution_count": 15,
   "id": "1f49ed74",
   "metadata": {},
   "outputs": [],
   "source": [
    "TARGET = \"loan_status\"\n",
    "ID_COL = \"ID\"\n",
    "\n",
    "X_tr = df_tr.drop(columns=[TARGET, ID_COL])\n",
    "y_tr = df_tr[TARGET]\n",
    "\n",
    "X_va = df_va.drop(columns=[TARGET, ID_COL])\n",
    "y_va = df_va[TARGET]  \n",
    "\n",
    "X_te = df_te.drop(columns=[TARGET, ID_COL])\n",
    "y_te = df_te[TARGET]\n",
    "\n",
    "\n",
    "pos = (y_tr == 1).sum()\n",
    "neg = (y_tr == 0).sum()\n",
    "scale_pos_weight = neg / max(pos, 1)  \n",
    "\n",
    "xgb_model = XGBClassifier(\n",
    "    n_estimators=2000,        \n",
    "    learning_rate=0.03,\n",
    "    max_depth=6,\n",
    "    subsample=0.8,\n",
    "    colsample_bytree=0.8,\n",
    "    eval_metric=\"auc\",    \n",
    "    scale_pos_weight=scale_pos_weight\n",
    ")\n",
    "\n",
    "\n"
   ]
  },
  {
   "cell_type": "code",
   "execution_count": null,
   "id": "491a9973",
   "metadata": {},
   "outputs": [
    {
     "name": "stderr",
     "output_type": "stream",
     "text": [
      "/Users/sezermezgil/anaconda3/envs/tf_m1/lib/python3.10/site-packages/xgboost/sklearn.py:889: UserWarning: `early_stopping_rounds` in `fit` method is deprecated for better compatibility with scikit-learn, use `early_stopping_rounds` in constructor or`set_params` instead.\n",
      "  warnings.warn(\n"
     ]
    },
    {
     "name": "stdout",
     "output_type": "stream",
     "text": [
      "{'ROC-AUC': 0.9499373416936785, 'Accuracy': 0.9267399267399268, 'Precision': 0.845861084681256, 'Recall': 0.8030713640469738, 'F1': 0.8239110287303059}\n"
     ]
    }
   ],
   "source": [
    "# --- 5) Eğitim (early stopping ile) ---\n",
    "xgb_model.fit(\n",
    "    X_tr, y_tr,\n",
    "    eval_set=[(X_va, y_va)],\n",
    "    verbose=False,\n",
    "    early_stopping_rounds=100\n",
    ")\n",
    "proba_va = xgb_model.predict_proba(X_va)[:, 1]\n",
    "y_pred  = (proba_va >= 0.5).astype(int)\n",
    "\n",
    "metrics_va = {\n",
    "    \"ROC-AUC\": roc_auc_score(y_va, proba_va),\n",
    "    \"Accuracy\": accuracy_score(y_va, y_pred),\n",
    "    \"Precision\": precision_score(y_va, y_pred, zero_division=0),\n",
    "    \"Recall\": recall_score(y_va, y_pred, zero_division=0),\n",
    "    \"F1\": f1_score(y_va, y_pred, zero_division=0),\n",
    "}\n",
    "print(metrics_va)"
   ]
  },
  {
   "cell_type": "code",
   "execution_count": 29,
   "id": "2d819b2d",
   "metadata": {},
   "outputs": [
    {
     "name": "stdout",
     "output_type": "stream",
     "text": [
      "{'ROC-AUC': 0.9440230745921733, 'Accuracy': 0.9142504626773597, 'Precision': 0.8051391862955032, 'Recall': 0.7994330262225372, 'F1': 0.802275960170697}\n"
     ]
    }
   ],
   "source": [
    "proba_te = xgb_model.predict_proba(X_te)[:, 1]\n",
    "y_pred  = (proba_te >= 0.47).astype(int)\n",
    "\n",
    "metrics_te = {\n",
    "    \"ROC-AUC\": roc_auc_score(y_te, proba_te),\n",
    "    \"Accuracy\": accuracy_score(y_te, y_pred),\n",
    "    \"Precision\": precision_score(y_te, y_pred, zero_division=0),\n",
    "    \"Recall\": recall_score(y_te, y_pred, zero_division=0),\n",
    "    \"F1\": f1_score(y_te, y_pred, zero_division=0),\n",
    "}\n",
    "print(metrics_te)"
   ]
  },
  {
   "cell_type": "code",
   "execution_count": 30,
   "id": "971fe39f",
   "metadata": {},
   "outputs": [
    {
     "data": {
      "image/png": "[encoded data removed]",
      "text/plain": [
       "<Figure size 500x400 with 1 Axes>"
      ]
     },
     "metadata": {},
     "output_type": "display_data"
    }
   ],
   "source": [
    "import seaborn as sns\n",
    "from sklearn.metrics import confusion_matrix\n",
    "\n",
    "cm = confusion_matrix(y_te, y_pred)\n",
    "\n",
    "plt.figure(figsize=(5,4))\n",
    "sns.heatmap(cm, annot=True, fmt=\"d\", cmap=\"Blues\", cbar=False,\n",
    "            xticklabels=[\"Pred 0\", \"Pred 1\"],\n",
    "            yticklabels=[\"True 0\", \"True 1\"])\n",
    "plt.xlabel(\"Predicted\")\n",
    "plt.ylabel(\"Actual\")\n",
    "plt.title(\"Confusion Matrix (Test Set)\")\n",
    "plt.show()"
   ]
  },
  {
   "cell_type": "code",
   "execution_count": null,
   "id": "e7bf4564",
   "metadata": {},
   "outputs": [],
   "source": []
  }
 ],
 "metadata": {
  "kernelspec": {
   "display_name": "tf_m1",
   "language": "python",
   "name": "python3"
  },
  "language_info": {
   "codemirror_mode": {
    "name": "ipython",
    "version": 3
   },
   "file_extension": ".py",
   "mimetype": "text/x-python",
   "name": "python",
   "nbconvert_exporter": "python",
   "pygments_lexer": "ipython3",
   "version": "3.10.11"
  }
 },
 "nbformat": 4,
 "nbformat_minor": 5
}
